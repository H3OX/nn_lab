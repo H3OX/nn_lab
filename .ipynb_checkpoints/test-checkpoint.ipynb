{
 "cells": [
  {
   "cell_type": "code",
   "execution_count": 2,
   "metadata": {},
   "outputs": [],
   "source": [
    "import joblib\n",
    "import pandas as pd\n",
    "from sklearn.ensemble import RandomForestClassifier\n",
    "from sklearn.model_selection import train_test_split\n",
    "from sklearn.metrics import classification_report, confusion_matrix\n",
    "import lightgbm as xgb\n",
    "import numpy as np\n",
    "import tensorflow as tf"
   ]
  },
  {
   "cell_type": "code",
   "execution_count": 4,
   "metadata": {},
   "outputs": [],
   "source": [
    "r = joblib.load('data/r.pkl')\n",
    "s = joblib.load('data/s.pkl')\n",
    "t = joblib.load('data/t.pkl')\n",
    "d = r.append(s, ignore_index=True)\n",
    "q = d.append(t, ignore_index=True)"
   ]
  },
  {
   "cell_type": "code",
   "execution_count": 3,
   "metadata": {},
   "outputs": [
    {
     "data": {
      "text/plain": [
       "3    1052\n",
       "6    1052\n",
       "2    1052\n",
       "5    1052\n",
       "1    1052\n",
       "0    1052\n",
       "4    1016\n",
       "Name: target, dtype: int64"
      ]
     },
     "execution_count": 3,
     "metadata": {},
     "output_type": "execute_result"
    }
   ],
   "source": [
    "q['target'].value_counts()"
   ]
  },
  {
   "cell_type": "code",
   "execution_count": 4,
   "metadata": {},
   "outputs": [],
   "source": [
    "rfc = RandomForestClassifier(n_estimators=100, max_depth=20, bootstrap=True)"
   ]
  },
  {
   "cell_type": "code",
   "execution_count": 5,
   "metadata": {},
   "outputs": [],
   "source": [
    "y, X = q['target'], q.drop('target', axis=1).values\n",
    "X_train, X_test, y_train, y_test = train_test_split(X, y, test_size=0.3, random_state=42)"
   ]
  },
  {
   "cell_type": "code",
   "execution_count": 6,
   "metadata": {},
   "outputs": [
    {
     "data": {
      "text/plain": [
       "RandomForestClassifier(bootstrap=True, ccp_alpha=0.0, class_weight=None,\n",
       "                       criterion='gini', max_depth=20, max_features='auto',\n",
       "                       max_leaf_nodes=None, max_samples=None,\n",
       "                       min_impurity_decrease=0.0, min_impurity_split=None,\n",
       "                       min_samples_leaf=1, min_samples_split=2,\n",
       "                       min_weight_fraction_leaf=0.0, n_estimators=100,\n",
       "                       n_jobs=None, oob_score=False, random_state=None,\n",
       "                       verbose=0, warm_start=False)"
      ]
     },
     "execution_count": 6,
     "metadata": {},
     "output_type": "execute_result"
    }
   ],
   "source": [
    "rfc.fit(X_train, y_train)"
   ]
  },
  {
   "cell_type": "code",
   "execution_count": 19,
   "metadata": {},
   "outputs": [
    {
     "name": "stdout",
     "output_type": "stream",
     "text": [
      "              precision    recall  f1-score   support\n",
      "\n",
      "           0       0.89      0.91      0.90       334\n",
      "           1       0.83      0.91      0.87       298\n",
      "           2       0.93      0.83      0.88       329\n",
      "           3       0.90      0.82      0.86       312\n",
      "           4       0.90      0.94      0.92       308\n",
      "           5       0.88      0.86      0.87       316\n",
      "           6       0.84      0.92      0.88       302\n",
      "\n",
      "    accuracy                           0.88      2199\n",
      "   macro avg       0.88      0.88      0.88      2199\n",
      "weighted avg       0.88      0.88      0.88      2199\n",
      "\n"
     ]
    }
   ],
   "source": [
    "print(classification_report(y_test, rfc.predict(X_test)))"
   ]
  },
  {
   "cell_type": "code",
   "execution_count": 8,
   "metadata": {},
   "outputs": [],
   "source": [
    "xgb = xgb.LGBMClassifier(**{\n",
    "    'learning_rate': 0.03,\n",
    "    'n_estimators': 100,\n",
    "    'max_depth': 4,\n",
    "    'subsample': 0.8,\n",
    "    'gamma': 0.1,\n",
    "    'colsample_bytree': 0.7\n",
    "})"
   ]
  },
  {
   "cell_type": "code",
   "execution_count": 9,
   "metadata": {},
   "outputs": [
    {
     "data": {
      "text/plain": [
       "LGBMClassifier(boosting_type='gbdt', class_weight=None, colsample_bytree=0.7,\n",
       "               gamma=0.1, importance_type='split', learning_rate=0.03,\n",
       "               max_depth=4, min_child_samples=20, min_child_weight=0.001,\n",
       "               min_split_gain=0.0, n_estimators=100, n_jobs=-1, num_leaves=31,\n",
       "               objective=None, random_state=None, reg_alpha=0.0, reg_lambda=0.0,\n",
       "               silent=True, subsample=0.8, subsample_for_bin=200000,\n",
       "               subsample_freq=0)"
      ]
     },
     "execution_count": 9,
     "metadata": {},
     "output_type": "execute_result"
    }
   ],
   "source": [
    "xgb.fit(X_train, y_train)"
   ]
  },
  {
   "cell_type": "code",
   "execution_count": 21,
   "metadata": {},
   "outputs": [
    {
     "data": {
      "text/html": [
       "<div>\n",
       "<style scoped>\n",
       "    .dataframe tbody tr th:only-of-type {\n",
       "        vertical-align: middle;\n",
       "    }\n",
       "\n",
       "    .dataframe tbody tr th {\n",
       "        vertical-align: top;\n",
       "    }\n",
       "\n",
       "    .dataframe thead th {\n",
       "        text-align: right;\n",
       "    }\n",
       "</style>\n",
       "<table border=\"1\" class=\"dataframe\">\n",
       "  <thead>\n",
       "    <tr style=\"text-align: right;\">\n",
       "      <th></th>\n",
       "      <th>precision</th>\n",
       "      <th>recall</th>\n",
       "      <th>f1-score</th>\n",
       "      <th>support</th>\n",
       "    </tr>\n",
       "  </thead>\n",
       "  <tbody>\n",
       "    <tr>\n",
       "      <th>0</th>\n",
       "      <td>0.850153</td>\n",
       "      <td>0.832335</td>\n",
       "      <td>0.841150</td>\n",
       "      <td>334.000000</td>\n",
       "    </tr>\n",
       "    <tr>\n",
       "      <th>1</th>\n",
       "      <td>0.671018</td>\n",
       "      <td>0.862416</td>\n",
       "      <td>0.754772</td>\n",
       "      <td>298.000000</td>\n",
       "    </tr>\n",
       "    <tr>\n",
       "      <th>2</th>\n",
       "      <td>0.966165</td>\n",
       "      <td>0.781155</td>\n",
       "      <td>0.863866</td>\n",
       "      <td>329.000000</td>\n",
       "    </tr>\n",
       "    <tr>\n",
       "      <th>3</th>\n",
       "      <td>0.877323</td>\n",
       "      <td>0.756410</td>\n",
       "      <td>0.812392</td>\n",
       "      <td>312.000000</td>\n",
       "    </tr>\n",
       "    <tr>\n",
       "      <th>4</th>\n",
       "      <td>0.887460</td>\n",
       "      <td>0.896104</td>\n",
       "      <td>0.891761</td>\n",
       "      <td>308.000000</td>\n",
       "    </tr>\n",
       "    <tr>\n",
       "      <th>5</th>\n",
       "      <td>0.823718</td>\n",
       "      <td>0.813291</td>\n",
       "      <td>0.818471</td>\n",
       "      <td>316.000000</td>\n",
       "    </tr>\n",
       "    <tr>\n",
       "      <th>6</th>\n",
       "      <td>0.782477</td>\n",
       "      <td>0.857616</td>\n",
       "      <td>0.818325</td>\n",
       "      <td>302.000000</td>\n",
       "    </tr>\n",
       "    <tr>\n",
       "      <th>accuracy</th>\n",
       "      <td>0.827649</td>\n",
       "      <td>0.827649</td>\n",
       "      <td>0.827649</td>\n",
       "      <td>0.827649</td>\n",
       "    </tr>\n",
       "    <tr>\n",
       "      <th>macro avg</th>\n",
       "      <td>0.836902</td>\n",
       "      <td>0.828475</td>\n",
       "      <td>0.828677</td>\n",
       "      <td>2199.000000</td>\n",
       "    </tr>\n",
       "    <tr>\n",
       "      <th>weighted avg</th>\n",
       "      <td>0.839222</td>\n",
       "      <td>0.827649</td>\n",
       "      <td>0.829458</td>\n",
       "      <td>2199.000000</td>\n",
       "    </tr>\n",
       "  </tbody>\n",
       "</table>\n",
       "</div>"
      ],
      "text/plain": [
       "              precision    recall  f1-score      support\n",
       "0              0.850153  0.832335  0.841150   334.000000\n",
       "1              0.671018  0.862416  0.754772   298.000000\n",
       "2              0.966165  0.781155  0.863866   329.000000\n",
       "3              0.877323  0.756410  0.812392   312.000000\n",
       "4              0.887460  0.896104  0.891761   308.000000\n",
       "5              0.823718  0.813291  0.818471   316.000000\n",
       "6              0.782477  0.857616  0.818325   302.000000\n",
       "accuracy       0.827649  0.827649  0.827649     0.827649\n",
       "macro avg      0.836902  0.828475  0.828677  2199.000000\n",
       "weighted avg   0.839222  0.827649  0.829458  2199.000000"
      ]
     },
     "execution_count": 21,
     "metadata": {},
     "output_type": "execute_result"
    }
   ],
   "source": [
    "xgb_report = pd.DataFrame(classification_report(y_test, xgb.predict(X_test), output_dict=True)).transpose()"
   ]
  },
  {
   "cell_type": "code",
   "execution_count": 2,
   "metadata": {},
   "outputs": [],
   "source": [
    "import scikitplot as skplt\n",
    "import matplotlib.pyplot as plt"
   ]
  },
  {
   "cell_type": "code",
   "execution_count": 16,
   "metadata": {},
   "outputs": [
    {
     "name": "stderr",
     "output_type": "stream",
     "text": [
      "/usr/local/lib/python3.7/site-packages/sklearn/utils/deprecation.py:87: FutureWarning: Function plot_roc_curve is deprecated; This will be removed in v0.5.0. Please use scikitplot.metrics.plot_roc instead.\n",
      "  warnings.warn(msg, category=FutureWarning)\n"
     ]
    },
    {
     "data": {
      "text/plain": [
       "<matplotlib.axes._subplots.AxesSubplot at 0x13786a690>"
      ]
     },
     "execution_count": 16,
     "metadata": {},
     "output_type": "execute_result"
    },
    {
     "data": {
      "image/png": "[encoded data removed]",
      "text/plain": [
       "<Figure size 432x288 with 1 Axes>"
      ]
     },
     "metadata": {
      "needs_background": "light"
     },
     "output_type": "display_data"
    }
   ],
   "source": [
    "skplt.metrics.plot_roc_curve(y_test, xgb.predict_proba(X_test))"
   ]
  },
  {
   "cell_type": "code",
   "execution_count": 17,
   "metadata": {},
   "outputs": [
    {
     "name": "stderr",
     "output_type": "stream",
     "text": [
      "/usr/local/lib/python3.7/site-packages/sklearn/utils/deprecation.py:87: FutureWarning: Function plot_roc_curve is deprecated; This will be removed in v0.5.0. Please use scikitplot.metrics.plot_roc instead.\n",
      "  warnings.warn(msg, category=FutureWarning)\n"
     ]
    },
    {
     "data": {
      "text/plain": [
       "<matplotlib.axes._subplots.AxesSubplot at 0x137a8ab90>"
      ]
     },
     "execution_count": 17,
     "metadata": {},
     "output_type": "execute_result"
    },
    {
     "data": {
      "image/png": "[encoded data removed]",
      "text/plain": [
       "<Figure size 432x288 with 1 Axes>"
      ]
     },
     "metadata": {
      "needs_background": "light"
     },
     "output_type": "display_data"
    }
   ],
   "source": [
    "skplt.metrics.plot_roc_curve(y_test, rfc.predict_proba(X_test))"
   ]
  },
  {
   "cell_type": "code",
   "execution_count": 10,
   "metadata": {},
   "outputs": [],
   "source": [
    "from tensorflow.keras.models import load_model"
   ]
  },
  {
   "cell_type": "code",
   "execution_count": 11,
   "metadata": {},
   "outputs": [],
   "source": [
    "cnn = load_model('cnn.hdf5')\n",
    "rnn = load_model('rnn.hdf5')"
   ]
  },
  {
   "cell_type": "code",
   "execution_count": 8,
   "metadata": {},
   "outputs": [],
   "source": [
    "X = np.expand_dims(q.iloc[:, 1:].values, axis=2)\n",
    "y = tf.keras.utils.to_categorical(q.iloc[:, 0].values)\n",
    "\n",
    "X_train, X_test, y_train, y_test = train_test_split(X, y, test_size=0.2, random_state=42)"
   ]
  },
  {
   "cell_type": "code",
   "execution_count": 9,
   "metadata": {},
   "outputs": [],
   "source": [
    "preds_cnn = [x.argmax() for x in cnn.predict(X_test)]\n",
    "preds_rnn = [x.argmax() for x in rnn.predict(X_test)]\n",
    "y_test = [x.argmax() for x in y_test]"
   ]
  },
  {
   "cell_type": "code",
   "execution_count": 11,
   "metadata": {},
   "outputs": [
    {
     "data": {
      "text/html": [
       "<div>\n",
       "<style scoped>\n",
       "    .dataframe tbody tr th:only-of-type {\n",
       "        vertical-align: middle;\n",
       "    }\n",
       "\n",
       "    .dataframe tbody tr th {\n",
       "        vertical-align: top;\n",
       "    }\n",
       "\n",
       "    .dataframe thead th {\n",
       "        text-align: right;\n",
       "    }\n",
       "</style>\n",
       "<table border=\"1\" class=\"dataframe\">\n",
       "  <thead>\n",
       "    <tr style=\"text-align: right;\">\n",
       "      <th></th>\n",
       "      <th>precision</th>\n",
       "      <th>recall</th>\n",
       "      <th>f1-score</th>\n",
       "      <th>support</th>\n",
       "    </tr>\n",
       "  </thead>\n",
       "  <tbody>\n",
       "    <tr>\n",
       "      <th>0</th>\n",
       "      <td>0.885593</td>\n",
       "      <td>0.896996</td>\n",
       "      <td>0.891258</td>\n",
       "      <td>233.000000</td>\n",
       "    </tr>\n",
       "    <tr>\n",
       "      <th>1</th>\n",
       "      <td>0.862245</td>\n",
       "      <td>0.933702</td>\n",
       "      <td>0.896552</td>\n",
       "      <td>181.000000</td>\n",
       "    </tr>\n",
       "    <tr>\n",
       "      <th>2</th>\n",
       "      <td>0.944724</td>\n",
       "      <td>0.854545</td>\n",
       "      <td>0.897375</td>\n",
       "      <td>220.000000</td>\n",
       "    </tr>\n",
       "    <tr>\n",
       "      <th>3</th>\n",
       "      <td>0.873786</td>\n",
       "      <td>0.849057</td>\n",
       "      <td>0.861244</td>\n",
       "      <td>212.000000</td>\n",
       "    </tr>\n",
       "    <tr>\n",
       "      <th>4</th>\n",
       "      <td>0.925134</td>\n",
       "      <td>0.878173</td>\n",
       "      <td>0.901042</td>\n",
       "      <td>197.000000</td>\n",
       "    </tr>\n",
       "    <tr>\n",
       "      <th>5</th>\n",
       "      <td>0.837500</td>\n",
       "      <td>0.901345</td>\n",
       "      <td>0.868251</td>\n",
       "      <td>223.000000</td>\n",
       "    </tr>\n",
       "    <tr>\n",
       "      <th>6</th>\n",
       "      <td>0.856436</td>\n",
       "      <td>0.865000</td>\n",
       "      <td>0.860697</td>\n",
       "      <td>200.000000</td>\n",
       "    </tr>\n",
       "    <tr>\n",
       "      <th>accuracy</th>\n",
       "      <td>0.881992</td>\n",
       "      <td>0.881992</td>\n",
       "      <td>0.881992</td>\n",
       "      <td>0.881992</td>\n",
       "    </tr>\n",
       "    <tr>\n",
       "      <th>macro avg</th>\n",
       "      <td>0.883631</td>\n",
       "      <td>0.882688</td>\n",
       "      <td>0.882345</td>\n",
       "      <td>1466.000000</td>\n",
       "    </tr>\n",
       "    <tr>\n",
       "      <th>weighted avg</th>\n",
       "      <td>0.883897</td>\n",
       "      <td>0.881992</td>\n",
       "      <td>0.882135</td>\n",
       "      <td>1466.000000</td>\n",
       "    </tr>\n",
       "  </tbody>\n",
       "</table>\n",
       "</div>"
      ],
      "text/plain": [
       "              precision    recall  f1-score      support\n",
       "0              0.885593  0.896996  0.891258   233.000000\n",
       "1              0.862245  0.933702  0.896552   181.000000\n",
       "2              0.944724  0.854545  0.897375   220.000000\n",
       "3              0.873786  0.849057  0.861244   212.000000\n",
       "4              0.925134  0.878173  0.901042   197.000000\n",
       "5              0.837500  0.901345  0.868251   223.000000\n",
       "6              0.856436  0.865000  0.860697   200.000000\n",
       "accuracy       0.881992  0.881992  0.881992     0.881992\n",
       "macro avg      0.883631  0.882688  0.882345  1466.000000\n",
       "weighted avg   0.883897  0.881992  0.882135  1466.000000"
      ]
     },
     "execution_count": 11,
     "metadata": {},
     "output_type": "execute_result"
    }
   ],
   "source": [
    "cnn_report = pd.DataFrame(classification_report(y_test, preds_cnn, output_dict=True)).transpose()\n",
    "cnn_report"
   ]
  },
  {
   "cell_type": "code",
   "execution_count": 12,
   "metadata": {},
   "outputs": [
    {
     "data": {
      "text/html": [
       "<div>\n",
       "<style scoped>\n",
       "    .dataframe tbody tr th:only-of-type {\n",
       "        vertical-align: middle;\n",
       "    }\n",
       "\n",
       "    .dataframe tbody tr th {\n",
       "        vertical-align: top;\n",
       "    }\n",
       "\n",
       "    .dataframe thead th {\n",
       "        text-align: right;\n",
       "    }\n",
       "</style>\n",
       "<table border=\"1\" class=\"dataframe\">\n",
       "  <thead>\n",
       "    <tr style=\"text-align: right;\">\n",
       "      <th></th>\n",
       "      <th>precision</th>\n",
       "      <th>recall</th>\n",
       "      <th>f1-score</th>\n",
       "      <th>support</th>\n",
       "    </tr>\n",
       "  </thead>\n",
       "  <tbody>\n",
       "    <tr>\n",
       "      <th>0</th>\n",
       "      <td>0.730375</td>\n",
       "      <td>0.918455</td>\n",
       "      <td>0.813688</td>\n",
       "      <td>233.000000</td>\n",
       "    </tr>\n",
       "    <tr>\n",
       "      <th>1</th>\n",
       "      <td>0.611765</td>\n",
       "      <td>0.861878</td>\n",
       "      <td>0.715596</td>\n",
       "      <td>181.000000</td>\n",
       "    </tr>\n",
       "    <tr>\n",
       "      <th>2</th>\n",
       "      <td>0.915344</td>\n",
       "      <td>0.786364</td>\n",
       "      <td>0.845966</td>\n",
       "      <td>220.000000</td>\n",
       "    </tr>\n",
       "    <tr>\n",
       "      <th>3</th>\n",
       "      <td>0.908497</td>\n",
       "      <td>0.655660</td>\n",
       "      <td>0.761644</td>\n",
       "      <td>212.000000</td>\n",
       "    </tr>\n",
       "    <tr>\n",
       "      <th>4</th>\n",
       "      <td>0.959770</td>\n",
       "      <td>0.847716</td>\n",
       "      <td>0.900270</td>\n",
       "      <td>197.000000</td>\n",
       "    </tr>\n",
       "    <tr>\n",
       "      <th>5</th>\n",
       "      <td>0.864078</td>\n",
       "      <td>0.798206</td>\n",
       "      <td>0.829837</td>\n",
       "      <td>223.000000</td>\n",
       "    </tr>\n",
       "    <tr>\n",
       "      <th>6</th>\n",
       "      <td>0.816327</td>\n",
       "      <td>0.800000</td>\n",
       "      <td>0.808081</td>\n",
       "      <td>200.000000</td>\n",
       "    </tr>\n",
       "    <tr>\n",
       "      <th>accuracy</th>\n",
       "      <td>0.809686</td>\n",
       "      <td>0.809686</td>\n",
       "      <td>0.809686</td>\n",
       "      <td>0.809686</td>\n",
       "    </tr>\n",
       "    <tr>\n",
       "      <th>macro avg</th>\n",
       "      <td>0.829451</td>\n",
       "      <td>0.809754</td>\n",
       "      <td>0.810726</td>\n",
       "      <td>1466.000000</td>\n",
       "    </tr>\n",
       "    <tr>\n",
       "      <th>weighted avg</th>\n",
       "      <td>0.832137</td>\n",
       "      <td>0.809686</td>\n",
       "      <td>0.812221</td>\n",
       "      <td>1466.000000</td>\n",
       "    </tr>\n",
       "  </tbody>\n",
       "</table>\n",
       "</div>"
      ],
      "text/plain": [
       "              precision    recall  f1-score      support\n",
       "0              0.730375  0.918455  0.813688   233.000000\n",
       "1              0.611765  0.861878  0.715596   181.000000\n",
       "2              0.915344  0.786364  0.845966   220.000000\n",
       "3              0.908497  0.655660  0.761644   212.000000\n",
       "4              0.959770  0.847716  0.900270   197.000000\n",
       "5              0.864078  0.798206  0.829837   223.000000\n",
       "6              0.816327  0.800000  0.808081   200.000000\n",
       "accuracy       0.809686  0.809686  0.809686     0.809686\n",
       "macro avg      0.829451  0.809754  0.810726  1466.000000\n",
       "weighted avg   0.832137  0.809686  0.812221  1466.000000"
      ]
     },
     "execution_count": 12,
     "metadata": {},
     "output_type": "execute_result"
    }
   ],
   "source": [
    "rnn_report = pd.DataFrame(classification_report(y_test, preds_rnn, output_dict=True)).transpose()\n",
    "rnn_report"
   ]
  },
  {
   "cell_type": "code",
   "execution_count": 24,
   "metadata": {},
   "outputs": [
    {
     "data": {
      "text/plain": [
       "array([[-305.84738159],\n",
       "       [  23.12042999],\n",
       "       [ -12.8867178 ],\n",
       "       [  43.44708633],\n",
       "       [ -10.22033596],\n",
       "       [   3.51273251],\n",
       "       [ -11.20961571],\n",
       "       [   0.8459782 ],\n",
       "       [ -18.57060623],\n",
       "       [   6.64281797],\n",
       "       [ -19.18101311],\n",
       "       [  12.68469334],\n",
       "       [  -8.11201   ],\n",
       "       [   2.54845071],\n",
       "       [   1.27074504],\n",
       "       [  -3.67394304],\n",
       "       [  -3.86499572],\n",
       "       [   8.91755199],\n",
       "       [  -6.75414705],\n",
       "       [  10.11920071],\n",
       "       [   4.52859831],\n",
       "       [   5.70446253],\n",
       "       [   0.30916762],\n",
       "       [   5.31910419],\n",
       "       [   4.19037533],\n",
       "       [   5.12582207],\n",
       "       [   5.05750847],\n",
       "       [   4.02266932],\n",
       "       [   0.80561221],\n",
       "       [   4.05154133]])"
      ]
     },
     "execution_count": 24,
     "metadata": {},
     "output_type": "execute_result"
    }
   ],
   "source": [
    "X_train[0]"
   ]
  },
  {
   "cell_type": "code",
   "execution_count": 26,
   "metadata": {},
   "outputs": [],
   "source": [
    "from librosa import display\n",
    "import librosa as lr"
   ]
  },
  {
   "cell_type": "code",
   "execution_count": 28,
   "metadata": {},
   "outputs": [],
   "source": [
    "audiofile, sr = lr.load('03-01-01-01-01-02-01.wav')\n",
    "mfccs = lr.feature.mfcc(audiofile, sr)"
   ]
  },
  {
   "cell_type": "code",
   "execution_count": 30,
   "metadata": {},
   "outputs": [
    {
     "data": {
      "text/plain": [
       "<matplotlib.axes._subplots.AxesSubplot at 0x1544e6fd0>"
      ]
     },
     "execution_count": 30,
     "metadata": {},
     "output_type": "execute_result"
    },
    {
     "data": {
      "image/png": "[encoded data removed]",
      "text/plain": [
       "<Figure size 432x288 with 1 Axes>"
      ]
     },
     "metadata": {
      "needs_background": "light"
     },
     "output_type": "display_data"
    }
   ],
   "source": [
    "display.specshow(mfccs, x_axis='time')"
   ]
  },
  {
   "cell_type": "code",
   "execution_count": 11,
   "metadata": {},
   "outputs": [],
   "source": [
    "import librosa as lr"
   ]
  },
  {
   "cell_type": "code",
   "execution_count": 12,
   "metadata": {},
   "outputs": [],
   "source": [
    "signal, sr = lr.load('Liza-happy-v3.wav', res_type='kaiser_fast')"
   ]
  },
  {
   "cell_type": "code",
   "execution_count": 13,
   "metadata": {},
   "outputs": [],
   "source": [
    "mfccs = np.mean(lr.feature.mfcc(y=signal, sr=sr, n_mfcc=30).T, axis=0)"
   ]
  },
  {
   "cell_type": "code",
   "execution_count": 14,
   "metadata": {},
   "outputs": [
    {
     "data": {
      "text/plain": [
       "array([-2.5752530e+02,  8.7788292e+01,  2.1185192e+01, -7.3549919e+00,\n",
       "       -2.1199909e+01, -8.6231554e-01, -2.5540274e-01,  1.5493623e+00,\n",
       "       -2.0440889e+01,  1.3602971e+01, -1.6080568e+01,  3.3474898e+00,\n",
       "       -1.1653048e+00,  8.8757534e+00,  4.3143468e+00,  1.3463379e+01,\n",
       "        3.8603745e+00,  1.4495905e+01,  1.0369655e+01,  1.0833073e+01,\n",
       "        2.3648736e+00,  1.7706544e+00, -1.4992894e+00, -8.2809079e-01,\n",
       "       -2.7009320e+00,  3.5916860e+00, -2.8003309e+00, -6.0988593e-01,\n",
       "        1.6839255e-01,  2.5370407e+00], dtype=float32)"
      ]
     },
     "execution_count": 14,
     "metadata": {},
     "output_type": "execute_result"
    }
   ],
   "source": [
    "mfccs"
   ]
  },
  {
   "cell_type": "code",
   "execution_count": 15,
   "metadata": {},
   "outputs": [
    {
     "data": {
      "text/plain": [
       "(30,)"
      ]
     },
     "execution_count": 15,
     "metadata": {},
     "output_type": "execute_result"
    }
   ],
   "source": [
    "mfccs.shape"
   ]
  },
  {
   "cell_type": "code",
   "execution_count": 17,
   "metadata": {},
   "outputs": [],
   "source": [
    "sample = np.expand_dims(mfccs, axis=1)"
   ]
  },
  {
   "cell_type": "code",
   "execution_count": null,
   "metadata": {},
   "outputs": [],
   "source": []
  }
 ],
 "metadata": {
  "kernelspec": {
   "display_name": "Python 3",
   "language": "python",
   "name": "python3"
  },
  "language_info": {
   "codemirror_mode": {
    "name": "ipython",
    "version": 3
   },
   "file_extension": ".py",
   "mimetype": "text/x-python",
   "name": "python",
   "nbconvert_exporter": "python",
   "pygments_lexer": "ipython3",
   "version": "3.7.7"
  }
 },
 "nbformat": 4,
 "nbformat_minor": 4
}
