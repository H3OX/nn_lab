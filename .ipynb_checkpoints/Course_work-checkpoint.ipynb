{
 "cells": [
  {
   "cell_type": "code",
   "execution_count": 5,
   "metadata": {},
   "outputs": [],
   "source": [
    "import os\n",
    "import numpy as np\n",
    "import pandas as pd\n",
    "import librosa as lr\n",
    "import seaborn as sns\n",
    "import matplotlib.pyplot as plt\n",
    "from sklearn.model_selection import train_test_split\n",
    "\n",
    "import warnings\n",
    "warnings.filterwarnings('ignore')"
   ]
  },
  {
   "cell_type": "code",
   "execution_count": 2,
   "metadata": {},
   "outputs": [
    {
     "name": "stdout",
     "output_type": "stream",
     "text": [
      "Collecting seaborn\n",
      "  Downloading seaborn-0.10.1-py3-none-any.whl (215 kB)\n",
      "\u001b[K     |████████████████████████████████| 215 kB 687 kB/s eta 0:00:01\n",
      "\u001b[?25hRequirement already satisfied: matplotlib>=2.1.2 in /usr/local/lib/python3.7/site-packages (from seaborn) (3.2.1)\n",
      "Requirement already satisfied: numpy>=1.13.3 in /usr/local/lib/python3.7/site-packages (from seaborn) (1.18.3)\n",
      "Requirement already satisfied: scipy>=1.0.1 in /usr/local/lib/python3.7/site-packages (from seaborn) (1.4.1)\n",
      "Requirement already satisfied: pandas>=0.22.0 in /usr/local/lib/python3.7/site-packages (from seaborn) (1.0.3)\n",
      "Requirement already satisfied: kiwisolver>=1.0.1 in /usr/local/lib/python3.7/site-packages (from matplotlib>=2.1.2->seaborn) (1.2.0)\n",
      "Requirement already satisfied: pyparsing!=2.0.4,!=2.1.2,!=2.1.6,>=2.0.1 in /usr/local/lib/python3.7/site-packages (from matplotlib>=2.1.2->seaborn) (2.4.7)\n",
      "Requirement already satisfied: cycler>=0.10 in /usr/local/lib/python3.7/site-packages (from matplotlib>=2.1.2->seaborn) (0.10.0)\n",
      "Requirement already satisfied: python-dateutil>=2.1 in /usr/local/lib/python3.7/site-packages (from matplotlib>=2.1.2->seaborn) (2.8.1)\n",
      "Requirement already satisfied: pytz>=2017.2 in /usr/local/lib/python3.7/site-packages (from pandas>=0.22.0->seaborn) (2020.1)\n",
      "Requirement already satisfied: six in /usr/local/lib/python3.7/site-packages (from cycler>=0.10->matplotlib>=2.1.2->seaborn) (1.14.0)\n",
      "Installing collected packages: seaborn\n",
      "Successfully installed seaborn-0.10.1\n",
      "Note: you may need to restart the kernel to use updated packages.\n"
     ]
    }
   ],
   "source": [
    "# -*- coding: utf-8 -*-\n",
    "import os\n",
    "import time\n",
    "\n",
    "import joblib\n",
    "import librosa as lr\n",
    "import numpy as np\n",
    "import pandas as pd\n",
    "\n",
    "\n",
    "emotions = {\n",
    "    '01': 'neutral',\n",
    "    '02': 'calm',\n",
    "    '03': 'happy',\n",
    "    '04': 'sad',\n",
    "    '05': 'angry',\n",
    "    '06': 'fearful',\n",
    "    '07': 'disgust',\n",
    "    '08': 'surprised'\n",
    "}\n",
    "\n",
    "start = time.time()\n",
    "\n",
    "data = []\n",
    "\n",
    "path = '../data/RAVDESS'\n",
    "\n",
    "print('Writing files...')\n",
    "for subdir, dirs, files in os.walk(path):\n",
    "\n",
    "    for file in files:\n",
    "        if file == '.DS_Store':\n",
    "            pass\n",
    "        else:\n",
    "            target = emotions[str(file.split('-')[2])]\n",
    "            y, sr = lr.load(os.path.join(subdir, file), res_type='kaiser_fast')\n",
    "            mfccs = np.mean(lr.feature.mfcc(y=y, sr=sr, n_mfcc=30).T, axis=0)\n",
    "            sample = mfccs, target\n",
    "            data.append(sample)\n",
    "\n",
    "end = time.time()\n",
    "print(f'Writing finished in {end - start} seconds')\n",
    "\n",
    "X, y = zip(*data)\n",
    "\n",
    "dataset = pd.DataFrame(X, y)\n",
    "\n",
    "dataset = dataset.reset_index()\n",
    "dataset.rename(columns={\n",
    "    'index': 'target'\n",
    "}, inplace=True)\n",
    "dataset = dataset[dataset['target'] != 'calm']\n",
    "dataset['target'].replace({\n",
    "    'angry': 0,\n",
    "    'disgust': 1,\n",
    "    'fearful': 2,\n",
    "    'happy': 3,\n",
    "    'neutral': 4,\n",
    "    'sad': 5,\n",
    "    'surprised': 6\n",
    "}, inplace=True)\n",
    "\n",
    "joblib.dump(dataset, '../data/r.pkl')"
   ]
  },
  {
   "cell_type": "code",
   "execution_count": null,
   "metadata": {},
   "outputs": [],
   "source": []
  }
 ],
 "metadata": {
  "kernelspec": {
   "display_name": "Python 3",
   "language": "python",
   "name": "python3"
  },
  "language_info": {
   "codemirror_mode": {
    "name": "ipython",
    "version": 3
   },
   "file_extension": ".py",
   "mimetype": "text/x-python",
   "name": "python",
   "nbconvert_exporter": "python",
   "pygments_lexer": "ipython3",
   "version": "3.7.7"
  }
 },
 "nbformat": 4,
 "nbformat_minor": 4
}
